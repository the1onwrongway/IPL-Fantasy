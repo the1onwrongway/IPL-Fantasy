{
 "cells": [
  {
   "cell_type": "code",
   "execution_count": 1,
   "metadata": {},
   "outputs": [
    {
     "name": "stdout",
     "output_type": "stream",
     "text": [
      "0.10.1\n"
     ]
    },
    {
     "data": {
      "text/plain": [
       "(193468, 34)"
      ]
     },
     "execution_count": 1,
     "metadata": {},
     "output_type": "execute_result"
    }
   ],
   "source": [
    "import numpy as np \n",
    "import pandas as pd \n",
    "import matplotlib.pyplot as plt\n",
    "import seaborn as sns\n",
    "print(sns.__version__)\n",
    "matches = pd.read_csv('IPL Matches 2008-2020.csv')\n",
    "balls = pd.read_csv('IPL Ball-by-Ball 2008-2020.csv')\n",
    "country = pd.read_csv('Country.csv',  encoding='latin-1')\n",
    "data = pd.merge(left=matches, right=balls, on='id', how='right')\n",
    "data.shape"
   ]
  },
  {
   "cell_type": "code",
   "execution_count": 3,
   "metadata": {},
   "outputs": [
    {
     "data": {
      "text/html": [
       "<div>\n",
       "<style scoped>\n",
       "    .dataframe tbody tr th:only-of-type {\n",
       "        vertical-align: middle;\n",
       "    }\n",
       "\n",
       "    .dataframe tbody tr th {\n",
       "        vertical-align: top;\n",
       "    }\n",
       "\n",
       "    .dataframe thead th {\n",
       "        text-align: right;\n",
       "    }\n",
       "</style>\n",
       "<table border=\"1\" class=\"dataframe\">\n",
       "  <thead>\n",
       "    <tr style=\"text-align: right;\">\n",
       "      <th></th>\n",
       "      <th>id</th>\n",
       "      <th>city</th>\n",
       "      <th>date</th>\n",
       "      <th>player_of_match</th>\n",
       "      <th>venue</th>\n",
       "      <th>neutral_venue</th>\n",
       "      <th>team1</th>\n",
       "      <th>team2</th>\n",
       "      <th>toss_winner</th>\n",
       "      <th>toss_decision</th>\n",
       "      <th>...</th>\n",
       "      <th>extra_runs</th>\n",
       "      <th>total_runs</th>\n",
       "      <th>non_boundary</th>\n",
       "      <th>is_wicket</th>\n",
       "      <th>dismissal_kind</th>\n",
       "      <th>player_dismissed</th>\n",
       "      <th>fielder</th>\n",
       "      <th>extras_type</th>\n",
       "      <th>batting_team</th>\n",
       "      <th>bowling_team</th>\n",
       "    </tr>\n",
       "  </thead>\n",
       "  <tbody>\n",
       "    <tr>\n",
       "      <th>0</th>\n",
       "      <td>335982</td>\n",
       "      <td>Bangalore</td>\n",
       "      <td>2008-04-18</td>\n",
       "      <td>BB McCullum</td>\n",
       "      <td>M Chinnaswamy Stadium</td>\n",
       "      <td>0</td>\n",
       "      <td>RCB</td>\n",
       "      <td>KKR</td>\n",
       "      <td>RCB</td>\n",
       "      <td>field</td>\n",
       "      <td>...</td>\n",
       "      <td>0</td>\n",
       "      <td>1</td>\n",
       "      <td>0</td>\n",
       "      <td>0</td>\n",
       "      <td>NaN</td>\n",
       "      <td>NaN</td>\n",
       "      <td>NaN</td>\n",
       "      <td>NaN</td>\n",
       "      <td>KKR</td>\n",
       "      <td>RCB</td>\n",
       "    </tr>\n",
       "  </tbody>\n",
       "</table>\n",
       "<p>1 rows × 34 columns</p>\n",
       "</div>"
      ],
      "text/plain": [
       "       id       city        date player_of_match                  venue  \\\n",
       "0  335982  Bangalore  2008-04-18     BB McCullum  M Chinnaswamy Stadium   \n",
       "\n",
       "   neutral_venue team1 team2 toss_winner toss_decision  ... extra_runs  \\\n",
       "0              0   RCB   KKR         RCB         field  ...          0   \n",
       "\n",
       "  total_runs  non_boundary is_wicket dismissal_kind player_dismissed fielder  \\\n",
       "0          1             0         0            NaN              NaN     NaN   \n",
       "\n",
       "   extras_type  batting_team  bowling_team  \n",
       "0          NaN           KKR           RCB  \n",
       "\n",
       "[1 rows x 34 columns]"
      ]
     },
     "execution_count": 3,
     "metadata": {},
     "output_type": "execute_result"
    }
   ],
   "source": [
    "data = data.replace(to_replace='Rising Pune Supergiant',value='Rising Pune Supergiants')\n",
    "data = data.replace(to_replace='Royal Challengers Bangalore',value='RCB')\n",
    "data = data.replace(to_replace='Kolkata Knight Riders',value='KKR')\n",
    "data = data.replace(to_replace='Mumbai Indians',value='MI')\n",
    "data = data.replace(to_replace='Rajasthan Royals',value='RR')\n",
    "data = data.replace(to_replace='Kings XI Punjab',value='KXIP')\n",
    "data = data.replace(to_replace='Delhi Daredevils',value='DD')\n",
    "data = data.replace(to_replace='Deccan Chargers',value='DC')\n",
    "data = data.replace(to_replace='Chennai Super Kings',value='CSK')\n",
    "data = data.replace(to_replace='Pune Warriors India',value='PWI')\n",
    "data = data.replace(to_replace='Kochi Tuskers Kerala',value='KTK')\n",
    "data = data.replace(to_replace='Sunrisers Hyderabad',value='SRH')\n",
    "data = data.replace(to_replace='Rising Pune Supergiants',value='RPSG')\n",
    "data = data.replace(to_replace='Gujarat Lions',value='GL')\n",
    "data = data.replace(to_replace='Delhi Capitals',value='DCA')\n",
    "data = data.replace(to_replace='Pune Warriors',value='PWI')\n",
    "\n",
    "data.head(1)"
   ]
  },
  {
   "cell_type": "code",
   "execution_count": 2,
   "metadata": {},
   "outputs": [
    {
     "data": {
      "text/plain": [
       "id                       0\n",
       "city                  3139\n",
       "date                     0\n",
       "player_of_match        372\n",
       "venue                    0\n",
       "neutral_venue            0\n",
       "team1                    0\n",
       "team2                    0\n",
       "toss_winner              0\n",
       "toss_decision            0\n",
       "winner                 372\n",
       "result                 372\n",
       "result_margin         3597\n",
       "eliminator             372\n",
       "method              190260\n",
       "umpire1                  0\n",
       "umpire2                  0\n",
       "inning                   0\n",
       "over                     0\n",
       "ball                     0\n",
       "batsman                  0\n",
       "non_striker              0\n",
       "bowler                   0\n",
       "batsman_runs             0\n",
       "extra_runs               0\n",
       "total_runs               0\n",
       "non_boundary             0\n",
       "is_wicket                0\n",
       "dismissal_kind      183973\n",
       "player_dismissed    183973\n",
       "fielder             186684\n",
       "extras_type         183235\n",
       "batting_team             0\n",
       "bowling_team           191\n",
       "dtype: int64"
      ]
     },
     "execution_count": 2,
     "metadata": {},
     "output_type": "execute_result"
    }
   ],
   "source": [
    "data.isnull().sum()"
   ]
  },
  {
   "cell_type": "code",
   "execution_count": 6,
   "metadata": {},
   "outputs": [],
   "source": [
    "balls['dismissal_kind'].fillna('Not a wicket', inplace=True)"
   ]
  },
  {
   "cell_type": "code",
   "execution_count": 7,
   "metadata": {},
   "outputs": [
    {
     "name": "stdout",
     "output_type": "stream",
     "text": [
      "<class 'pandas.core.frame.DataFrame'>\n",
      "Int64Index: 193468 entries, 0 to 193467\n",
      "Data columns (total 34 columns):\n",
      " #   Column            Non-Null Count   Dtype  \n",
      "---  ------            --------------   -----  \n",
      " 0   id                193468 non-null  int64  \n",
      " 1   city              190329 non-null  object \n",
      " 2   date              193468 non-null  object \n",
      " 3   player_of_match   193096 non-null  object \n",
      " 4   venue             193468 non-null  object \n",
      " 5   neutral_venue     193468 non-null  int64  \n",
      " 6   team1             193468 non-null  object \n",
      " 7   team2             193468 non-null  object \n",
      " 8   toss_winner       193468 non-null  object \n",
      " 9   toss_decision     193468 non-null  object \n",
      " 10  winner            193096 non-null  object \n",
      " 11  result            193096 non-null  object \n",
      " 12  result_margin     189871 non-null  float64\n",
      " 13  eliminator        193096 non-null  object \n",
      " 14  method            3208 non-null    object \n",
      " 15  umpire1           193468 non-null  object \n",
      " 16  umpire2           193468 non-null  object \n",
      " 17  inning            193468 non-null  int64  \n",
      " 18  over              193468 non-null  int64  \n",
      " 19  ball              193468 non-null  int64  \n",
      " 20  batsman           193468 non-null  object \n",
      " 21  non_striker       193468 non-null  object \n",
      " 22  bowler            193468 non-null  object \n",
      " 23  batsman_runs      193468 non-null  int64  \n",
      " 24  extra_runs        193468 non-null  int64  \n",
      " 25  total_runs        193468 non-null  int64  \n",
      " 26  non_boundary      193468 non-null  int64  \n",
      " 27  is_wicket         193468 non-null  int64  \n",
      " 28  dismissal_kind    9495 non-null    object \n",
      " 29  player_dismissed  9495 non-null    object \n",
      " 30  fielder           6784 non-null    object \n",
      " 31  extras_type       10233 non-null   object \n",
      " 32  batting_team      193468 non-null  object \n",
      " 33  bowling_team      193277 non-null  object \n",
      "dtypes: float64(1), int64(10), object(23)\n",
      "memory usage: 51.7+ MB\n"
     ]
    }
   ],
   "source": [
    "data.info()"
   ]
  },
  {
   "cell_type": "code",
   "execution_count": 3,
   "metadata": {},
   "outputs": [],
   "source": [
    "data['date'] = pd.to_datetime(data['date'])\n",
    "data['year'] = pd.DatetimeIndex(data['date']).year"
   ]
  },
  {
   "cell_type": "code",
   "execution_count": 9,
   "metadata": {},
   "outputs": [
    {
     "data": {
      "text/plain": [
       "Index(['id', 'city', 'date', 'player_of_match', 'venue', 'neutral_venue',\n",
       "       'team1', 'team2', 'toss_winner', 'toss_decision', 'winner', 'result',\n",
       "       'result_margin', 'eliminator', 'method', 'umpire1', 'umpire2', 'inning',\n",
       "       'over', 'ball', 'batsman', 'non_striker', 'bowler', 'batsman_runs',\n",
       "       'extra_runs', 'total_runs', 'non_boundary', 'is_wicket',\n",
       "       'dismissal_kind', 'player_dismissed', 'fielder', 'extras_type',\n",
       "       'batting_team', 'bowling_team', 'year'],\n",
       "      dtype='object')"
      ]
     },
     "execution_count": 9,
     "metadata": {},
     "output_type": "execute_result"
    }
   ],
   "source": [
    "data.columns"
   ]
  },
  {
   "cell_type": "code",
   "execution_count": 10,
   "metadata": {},
   "outputs": [
    {
     "data": {
      "text/plain": [
       "0          RT Ponting\n",
       "1         BB McCullum\n",
       "2         BB McCullum\n",
       "3         BB McCullum\n",
       "4          RT Ponting\n",
       "             ...     \n",
       "193463        RR Pant\n",
       "193464        RR Pant\n",
       "193465        RR Pant\n",
       "193466        RR Pant\n",
       "193467        SS Iyer\n",
       "Name: batsman, Length: 193468, dtype: object"
      ]
     },
     "execution_count": 10,
     "metadata": {},
     "output_type": "execute_result"
    }
   ],
   "source": [
    "data.batsman"
   ]
  },
  {
   "cell_type": "code",
   "execution_count": 4,
   "metadata": {},
   "outputs": [
    {
     "data": {
      "text/html": [
       "<div>\n",
       "<style scoped>\n",
       "    .dataframe tbody tr th:only-of-type {\n",
       "        vertical-align: middle;\n",
       "    }\n",
       "\n",
       "    .dataframe tbody tr th {\n",
       "        vertical-align: top;\n",
       "    }\n",
       "\n",
       "    .dataframe thead th {\n",
       "        text-align: right;\n",
       "    }\n",
       "</style>\n",
       "<table border=\"1\" class=\"dataframe\">\n",
       "  <thead>\n",
       "    <tr style=\"text-align: right;\">\n",
       "      <th></th>\n",
       "      <th>Player</th>\n",
       "      <th>Country</th>\n",
       "    </tr>\n",
       "  </thead>\n",
       "  <tbody>\n",
       "    <tr>\n",
       "      <th>0</th>\n",
       "      <td>Aakash Chopra</td>\n",
       "      <td>India</td>\n",
       "    </tr>\n",
       "    <tr>\n",
       "      <th>1</th>\n",
       "      <td>Aaron Finch</td>\n",
       "      <td>Australia</td>\n",
       "    </tr>\n",
       "    <tr>\n",
       "      <th>2</th>\n",
       "      <td>Aavishkar Salvi</td>\n",
       "      <td>India</td>\n",
       "    </tr>\n",
       "    <tr>\n",
       "      <th>3</th>\n",
       "      <td>AB de Villiers</td>\n",
       "      <td>South Africa</td>\n",
       "    </tr>\n",
       "    <tr>\n",
       "      <th>4</th>\n",
       "      <td>Abdul Samad</td>\n",
       "      <td>India</td>\n",
       "    </tr>\n",
       "  </tbody>\n",
       "</table>\n",
       "</div>"
      ],
      "text/plain": [
       "            Player       Country\n",
       "0    Aakash Chopra         India\n",
       "1      Aaron Finch     Australia\n",
       "2  Aavishkar Salvi         India\n",
       "3   AB de Villiers  South Africa\n",
       "4      Abdul Samad         India"
      ]
     },
     "execution_count": 4,
     "metadata": {},
     "output_type": "execute_result"
    }
   ],
   "source": [
    "country.head()"
   ]
  },
  {
   "cell_type": "code",
   "execution_count": null,
   "metadata": {},
   "outputs": [],
   "source": []
  },
  {
   "cell_type": "code",
   "execution_count": null,
   "metadata": {},
   "outputs": [],
   "source": []
  },
  {
   "cell_type": "code",
   "execution_count": null,
   "metadata": {},
   "outputs": [],
   "source": []
  },
  {
   "cell_type": "code",
   "execution_count": null,
   "metadata": {},
   "outputs": [],
   "source": []
  },
  {
   "cell_type": "code",
   "execution_count": null,
   "metadata": {},
   "outputs": [],
   "source": []
  },
  {
   "cell_type": "code",
   "execution_count": null,
   "metadata": {},
   "outputs": [],
   "source": []
  },
  {
   "cell_type": "code",
   "execution_count": null,
   "metadata": {},
   "outputs": [],
   "source": []
  },
  {
   "cell_type": "code",
   "execution_count": null,
   "metadata": {},
   "outputs": [],
   "source": []
  },
  {
   "cell_type": "code",
   "execution_count": null,
   "metadata": {},
   "outputs": [],
   "source": []
  },
  {
   "cell_type": "code",
   "execution_count": null,
   "metadata": {},
   "outputs": [],
   "source": []
  },
  {
   "cell_type": "code",
   "execution_count": null,
   "metadata": {},
   "outputs": [],
   "source": []
  },
  {
   "cell_type": "code",
   "execution_count": null,
   "metadata": {},
   "outputs": [],
   "source": []
  },
  {
   "cell_type": "code",
   "execution_count": null,
   "metadata": {},
   "outputs": [],
   "source": []
  }
 ],
 "metadata": {
  "kernelspec": {
   "display_name": "Python 3",
   "language": "python",
   "name": "python3"
  },
  "language_info": {
   "codemirror_mode": {
    "name": "ipython",
    "version": 3
   },
   "file_extension": ".py",
   "mimetype": "text/x-python",
   "name": "python",
   "nbconvert_exporter": "python",
   "pygments_lexer": "ipython3",
   "version": "3.8.3"
  }
 },
 "nbformat": 4,
 "nbformat_minor": 4
}
